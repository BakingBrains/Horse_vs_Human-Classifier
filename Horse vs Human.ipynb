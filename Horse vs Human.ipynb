{
 "cells": [
  {
   "cell_type": "code",
   "execution_count": 1,
   "metadata": {},
   "outputs": [],
   "source": [
    "import os\n",
    "import tensorflow as tf\n",
    "from tensorflow import keras\n",
    "from tensorflow.keras.preprocessing.image import ImageDataGenerator"
   ]
  },
  {
   "cell_type": "code",
   "execution_count": 2,
   "metadata": {},
   "outputs": [
    {
     "name": "stdout",
     "output_type": "stream",
     "text": [
      "500\n",
      "527\n",
      "128\n",
      "128\n"
     ]
    }
   ],
   "source": [
    "print(len(os.listdir(\"horse-or-human/train/horses\")))\n",
    "print(len(os.listdir(\"horse-or-human/train/humans\")))\n",
    "print(len(os.listdir(\"horse-or-human/validation/horses\")))\n",
    "print(len(os.listdir(\"horse-or-human/validation/humans\")))"
   ]
  },
  {
   "cell_type": "code",
   "execution_count": 27,
   "metadata": {},
   "outputs": [],
   "source": [
    "model = tf.keras.models.Sequential([\n",
    "            tf.keras.layers.Conv2D(32, (3,3), activation = 'relu', input_shape = (150, 150, 3)),\n",
    "            tf.keras.layers.MaxPooling2D(2,2),\n",
    "            tf.keras.layers.Conv2D(32, (3,3), activation = 'relu'),\n",
    "            tf.keras.layers.MaxPooling2D(2,2),\n",
    "            tf.keras.layers.Conv2D(32, (3,3), activation = 'relu'),\n",
    "            tf.keras.layers.MaxPooling2D(2,2),\n",
    "            tf.keras.layers.Conv2D(32, (3,3), activation = 'relu'),\n",
    "            tf.keras.layers.MaxPooling2D(2,2),\n",
    "            tf.keras.layers.Flatten(),\n",
    "            tf.keras.layers.Dense(512, activation = tf.nn.relu),\n",
    "            tf.keras.layers.Dense(1, activation = 'sigmoid')\n",
    "    ])"
   ]
  },
  {
   "cell_type": "code",
   "execution_count": 28,
   "metadata": {},
   "outputs": [],
   "source": [
    "model.compile(optimizer = 'adam', loss = 'binary_crossentropy', metrics = ['acc'])"
   ]
  },
  {
   "cell_type": "code",
   "execution_count": 29,
   "metadata": {},
   "outputs": [
    {
     "name": "stdout",
     "output_type": "stream",
     "text": [
      "Model: \"sequential_7\"\n",
      "_________________________________________________________________\n",
      "Layer (type)                 Output Shape              Param #   \n",
      "=================================================================\n",
      "conv2d_24 (Conv2D)           (None, 148, 148, 32)      896       \n",
      "_________________________________________________________________\n",
      "max_pooling2d_24 (MaxPooling (None, 74, 74, 32)        0         \n",
      "_________________________________________________________________\n",
      "conv2d_25 (Conv2D)           (None, 72, 72, 32)        9248      \n",
      "_________________________________________________________________\n",
      "max_pooling2d_25 (MaxPooling (None, 36, 36, 32)        0         \n",
      "_________________________________________________________________\n",
      "conv2d_26 (Conv2D)           (None, 34, 34, 32)        9248      \n",
      "_________________________________________________________________\n",
      "max_pooling2d_26 (MaxPooling (None, 17, 17, 32)        0         \n",
      "_________________________________________________________________\n",
      "conv2d_27 (Conv2D)           (None, 15, 15, 32)        9248      \n",
      "_________________________________________________________________\n",
      "max_pooling2d_27 (MaxPooling (None, 7, 7, 32)          0         \n",
      "_________________________________________________________________\n",
      "flatten_7 (Flatten)          (None, 1568)              0         \n",
      "_________________________________________________________________\n",
      "dense_14 (Dense)             (None, 512)               803328    \n",
      "_________________________________________________________________\n",
      "dense_15 (Dense)             (None, 1)                 513       \n",
      "=================================================================\n",
      "Total params: 832,481\n",
      "Trainable params: 832,481\n",
      "Non-trainable params: 0\n",
      "_________________________________________________________________\n"
     ]
    }
   ],
   "source": [
    "model.summary()"
   ]
  },
  {
   "cell_type": "code",
   "execution_count": 30,
   "metadata": {},
   "outputs": [],
   "source": [
    "train_datagen = ImageDataGenerator(\n",
    "                    rescale = 1/255.0,\n",
    "                    rotation_range = 40,\n",
    "                    width_shift_range = 0.2,\n",
    "                    height_shift_range = 0.2,\n",
    "                    shear_range = 0.2,\n",
    "                    zoom_range = 0.2,\n",
    "                    horizontal_flip = True,\n",
    "                    fill_mode = 'nearest'\n",
    "                    )\n",
    "\n",
    "valid_datagen = ImageDataGenerator(\n",
    "                    rescale = 1/255.0,\n",
    "                    rotation_range = 40,\n",
    "                    width_shift_range = 0.2,\n",
    "                    height_shift_range = 0.2,\n",
    "                    shear_range = 0.2,\n",
    "                    zoom_range = 0.2,\n",
    "                    horizontal_flip = True,\n",
    "                    fill_mode = 'nearest'\n",
    "                    )"
   ]
  },
  {
   "cell_type": "code",
   "execution_count": 31,
   "metadata": {},
   "outputs": [
    {
     "name": "stdout",
     "output_type": "stream",
     "text": [
      "Found 1027 images belonging to 2 classes.\n",
      "Found 256 images belonging to 2 classes.\n"
     ]
    }
   ],
   "source": [
    "training_generator = train_datagen.flow_from_directory(\n",
    "                        \"horse-or-human/train\",\n",
    "                        target_size = (150, 150),\n",
    "                        batch_size = 50,\n",
    "                        class_mode = 'binary')\n",
    "\n",
    "validation_generator = valid_datagen.flow_from_directory(\n",
    "                        \"horse-or-human/validation\",\n",
    "                        target_size = (150, 150),\n",
    "                        batch_size = 25,\n",
    "                        class_mode = 'binary')"
   ]
  },
  {
   "cell_type": "code",
   "execution_count": 33,
   "metadata": {},
   "outputs": [
    {
     "name": "stdout",
     "output_type": "stream",
     "text": [
      "Epoch 1/10\n",
      "10/10 - 22s - loss: 0.4885 - acc: 0.7720 - val_loss: 0.6720 - val_acc: 0.6400\n",
      "Epoch 2/10\n",
      "10/10 - 19s - loss: 0.3876 - acc: 0.8260 - val_loss: 0.9573 - val_acc: 0.5680\n",
      "Epoch 3/10\n",
      "10/10 - 19s - loss: 0.3798 - acc: 0.8239 - val_loss: 1.4392 - val_acc: 0.5920\n",
      "Epoch 4/10\n",
      "10/10 - 20s - loss: 0.3189 - acc: 0.8700 - val_loss: 1.4733 - val_acc: 0.5840\n",
      "Epoch 5/10\n",
      "10/10 - 20s - loss: 0.3197 - acc: 0.8440 - val_loss: 1.5238 - val_acc: 0.5360\n",
      "Epoch 6/10\n",
      "10/10 - 20s - loss: 0.3145 - acc: 0.8742 - val_loss: 1.0159 - val_acc: 0.5520\n",
      "Epoch 7/10\n",
      "10/10 - 21s - loss: 0.2944 - acc: 0.8784 - val_loss: 1.3259 - val_acc: 0.5680\n",
      "Epoch 8/10\n",
      "10/10 - 21s - loss: 0.2102 - acc: 0.9100 - val_loss: 2.1452 - val_acc: 0.5440\n",
      "Epoch 9/10\n",
      "10/10 - 22s - loss: 0.1979 - acc: 0.9140 - val_loss: 2.6630 - val_acc: 0.5600\n",
      "Epoch 10/10\n",
      "10/10 - 22s - loss: 0.2366 - acc: 0.9099 - val_loss: 1.9508 - val_acc: 0.5040\n"
     ]
    },
    {
     "data": {
      "text/plain": [
       "<tensorflow.python.keras.callbacks.History at 0x1be39ad1e48>"
      ]
     },
     "execution_count": 33,
     "metadata": {},
     "output_type": "execute_result"
    }
   ],
   "source": [
    "model.fit( \n",
    "        training_generator,\n",
    "        steps_per_epoch = 10,\n",
    "        epochs = 10,\n",
    "        validation_data = validation_generator,\n",
    "        validation_steps = 5,\n",
    "        verbose = 2)"
   ]
  },
  {
   "cell_type": "code",
   "execution_count": 38,
   "metadata": {},
   "outputs": [
    {
     "data": {
      "text/plain": [
       "\"\\nimport matplotlib.pyplot as plt\\nacc = history.history['acc']\\nval_acc = history.history['val_acc']\\nloss = history.history['loss']\\nval_loss = history.history['val_loss']\\n\\nepochs = range(len(acc))\\n\\nplt.plot(epochs, acc, 'r', label='Training accuracy')\\nplt.plot(epochs, val_acc, 'b', label='Validation accuracy')\\nplt.title('Training and validation accuracy')\\nplt.legend(loc=0)\\nplt.figure()\\n\\n\\nplt.show()\\n\""
      ]
     },
     "execution_count": 38,
     "metadata": {},
     "output_type": "execute_result"
    }
   ],
   "source": [
    "'''\n",
    "import matplotlib.pyplot as plt\n",
    "acc = history.history['acc']\n",
    "val_acc = history.history['val_acc']\n",
    "loss = history.history['loss']\n",
    "val_loss = history.history['val_loss']\n",
    "\n",
    "epochs = range(len(acc))\n",
    "\n",
    "plt.plot(epochs, acc, 'r', label='Training accuracy')\n",
    "plt.plot(epochs, val_acc, 'b', label='Validation accuracy')\n",
    "plt.title('Training and validation accuracy')\n",
    "plt.legend(loc=0)\n",
    "plt.figure()\n",
    "\n",
    "\n",
    "plt.show()\n",
    "'''"
   ]
  },
  {
   "cell_type": "code",
   "execution_count": 37,
   "metadata": {},
   "outputs": [
    {
     "name": "stdout",
     "output_type": "stream",
     "text": [
      "11/11 [==============================] - 5s 444ms/step - loss: 1.8784 - acc: 0.5742\n"
     ]
    },
    {
     "data": {
      "text/plain": [
       "[1.878382682800293, 0.57421875]"
      ]
     },
     "execution_count": 37,
     "metadata": {},
     "output_type": "execute_result"
    }
   ],
   "source": [
    "model.evaluate(validation_generator)"
   ]
  },
  {
   "cell_type": "code",
   "execution_count": null,
   "metadata": {},
   "outputs": [],
   "source": []
  }
 ],
 "metadata": {
  "kernelspec": {
   "display_name": "Python 3",
   "language": "python",
   "name": "python3"
  },
  "language_info": {
   "codemirror_mode": {
    "name": "ipython",
    "version": 3
   },
   "file_extension": ".py",
   "mimetype": "text/x-python",
   "name": "python",
   "nbconvert_exporter": "python",
   "pygments_lexer": "ipython3",
   "version": "3.6.8"
  }
 },
 "nbformat": 4,
 "nbformat_minor": 4
}
